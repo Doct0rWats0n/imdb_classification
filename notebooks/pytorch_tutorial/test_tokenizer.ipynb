{
 "cells": [
  {
   "cell_type": "code",
   "execution_count": 4,
   "id": "a30ec686-8bb1-4951-ac1a-39e24feef823",
   "metadata": {},
   "outputs": [],
   "source": [
    "from transformers import BertTokenizer"
   ]
  },
  {
   "cell_type": "code",
   "execution_count": 6,
   "id": "c33687ab-7af9-4e18-8ef5-7fe49c1bafbc",
   "metadata": {},
   "outputs": [],
   "source": [
    "tz = BertTokenizer.from_pretrained('bert-base-cased')"
   ]
  },
  {
   "cell_type": "code",
   "execution_count": 8,
   "id": "8240b90b-7c0c-4daf-9eed-2365fcc89752",
   "metadata": {},
   "outputs": [],
   "source": [
    "import csv\n",
    "with open('../../dataset/IMDB Dataset.csv', 'r') as f:\n",
    "    reader = csv.reader(f, delimiter=',')\n",
    "    data = [i for i in reader]\n"
   ]
  },
  {
   "cell_type": "code",
   "execution_count": 15,
   "id": "2c1952ea-f754-457b-80ce-7e608036f387",
   "metadata": {},
   "outputs": [],
   "source": [
    "tz_data = []\n",
    "for i in data:\n",
    "    tz_data += tz.tokenize(i[0])"
   ]
  },
  {
   "cell_type": "code",
   "execution_count": 18,
   "id": "5abee297-6dbc-4420-a316-31bca1d18df1",
   "metadata": {},
   "outputs": [
    {
     "name": "stdout",
     "output_type": "stream",
     "text": [
      "['review', 'One', 'of', 'the', 'other', 'reviewers', 'has', 'mentioned', 'that', 'after', 'watching', 'just', '1', 'Oz', 'episode', 'you', \"'\", 'll', 'be', 'hooked', '.', 'They', 'are', 'right', ',', 'as', 'this', 'is', 'exactly', 'what', 'happened', 'with', 'me', '.', '<', 'br', '/', '>', '<', 'br', '/', '>', 'The', 'first', 'thing', 'that', 'struck', 'me', 'about', 'Oz', 'was', 'its', 'brutality', 'and', 'un', '##f', '##lin', '##ching', 'scenes', 'of', 'violence', ',', 'which', 'set', 'in', 'right', 'from', 'the', 'word', 'GO', '.', 'Trust', 'me', ',', 'this', 'is', 'not', 'a', 'show', 'for', 'the', 'faint', 'hearted', 'or', 't', '##im', '##id', '.', 'This', 'show', 'pulls', 'no', 'punches', 'with', 'regards', 'to', 'drugs', ',', 'sex', 'or']\n"
     ]
    }
   ],
   "source": [
    "print(tz_data[:100])"
   ]
  },
  {
   "cell_type": "code",
   "execution_count": null,
   "id": "fd10b93b-0996-434a-9590-f600a7d0b817",
   "metadata": {},
   "outputs": [],
   "source": []
  }
 ],
 "metadata": {
  "kernelspec": {
   "display_name": "venv",
   "language": "python",
   "name": "venv"
  },
  "language_info": {
   "codemirror_mode": {
    "name": "ipython",
    "version": 3
   },
   "file_extension": ".py",
   "mimetype": "text/x-python",
   "name": "python",
   "nbconvert_exporter": "python",
   "pygments_lexer": "ipython3",
   "version": "3.10.12"
  }
 },
 "nbformat": 4,
 "nbformat_minor": 5
}
