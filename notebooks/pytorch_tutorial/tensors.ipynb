{
 "cells": [
  {
   "cell_type": "markdown",
   "id": "f3980bb4-2f76-4419-b9cf-36955ee86ed4",
   "metadata": {},
   "source": [
    "# Тензоры"
   ]
  },
  {
   "cell_type": "markdown",
   "id": "6a286520-6397-4dc8-ad39-c5c04b247f37",
   "metadata": {},
   "source": [
    "Тензор - специализированная структура данных, которая очень похожа на массивы и матрицы. В PyTorch мы используем тензоры для кодирования входов и выходов модели, а также ее параметров.\n",
    "\n",
    "Тензоры похожи на массивы NumPy, за исключением того, что тензоры могут работать на GPU или другом специализированном оборудовании для ускорения вычислений."
   ]
  },
  {
   "cell_type": "code",
   "execution_count": 1,
   "id": "acadb886-ed28-4818-a6ac-37efefe8e950",
   "metadata": {},
   "outputs": [],
   "source": [
    "import torch\n",
    "import numpy as np"
   ]
  },
  {
   "cell_type": "markdown",
   "id": "6a2395cb-c06d-4c75-ba92-1e81c772e496",
   "metadata": {},
   "source": [
    "<h2>Инициализация тензоров</h2>"
   ]
  },
  {
   "cell_type": "code",
   "execution_count": 2,
   "id": "743b7d9f-e4e1-4f8b-a078-5ec26cc026f8",
   "metadata": {},
   "outputs": [],
   "source": [
    "# Напрямую из данных\n",
    "data = [[1, 2], [3, 4]]\n",
    "x_data = torch.tensor(data)"
   ]
  },
  {
   "cell_type": "code",
   "execution_count": 3,
   "id": "865efcac-bd4a-4c78-9438-6075a503f6a5",
   "metadata": {},
   "outputs": [],
   "source": [
    "# Из массивов numpy (и наоборот, тензоры в массивы numpy)\n",
    "np_array = np.array(data)\n",
    "x_np = torch.from_numpy(np_array)"
   ]
  },
  {
   "cell_type": "code",
   "execution_count": 4,
   "id": "62e9d756-ca71-40ef-b7fa-e8398963b35e",
   "metadata": {},
   "outputs": [
    {
     "name": "stdout",
     "output_type": "stream",
     "text": [
      "Ones Tensor: \n",
      " tensor([[1, 1],\n",
      "        [1, 1]]) \n",
      "\n",
      "Random Tensor: \n",
      " tensor([[0.9327, 0.2186],\n",
      "        [0.1775, 0.5615]]) \n",
      "\n"
     ]
    }
   ],
   "source": [
    "# Из другого тензора \n",
    "# Новый тензор сохраняет свойства (форму, тип данных) тензора-аргумента, если они не переопределены явно.\n",
    "x_ones = torch.ones_like(x_data)  # сохраняет свойства x_data\n",
    "print(f\"Ones Tensor: \\n {x_ones} \\n\")\n",
    "\n",
    "x_rand = torch.rand_like(x_data, dtype=torch.float)  # переопределяет тип данных x_data\n",
    "print(f\"Random Tensor: \\n {x_rand} \\n\")"
   ]
  },
  {
   "cell_type": "code",
   "execution_count": 5,
   "id": "f5f0e242-a404-4f2e-a483-2ce425306312",
   "metadata": {},
   "outputs": [
    {
     "name": "stdout",
     "output_type": "stream",
     "text": [
      "Random Tensor: \n",
      " tensor([[0.5240, 0.8208, 0.8891],\n",
      "        [0.3506, 0.4435, 0.9448]]) \n",
      "\n",
      "Ones Tensor: \n",
      " tensor([[1., 1., 1.],\n",
      "        [1., 1., 1.]]) \n",
      "\n",
      "Zeros Tensor: \n",
      " tensor([[0., 0., 0.],\n",
      "        [0., 0., 0.]])\n"
     ]
    }
   ],
   "source": [
    "# Со случайными или постоянными значениями\n",
    "# shape - кортеж размерностей тензора. В приведенных ниже функциях он определяет размерность выходного тензора\n",
    "shape = (2, 3,)\n",
    "rand_tensor = torch.rand(shape)\n",
    "ones_tensor = torch.ones(shape)\n",
    "zeros_tensor = torch.zeros(shape)\n",
    "\n",
    "print(f\"Random Tensor: \\n {rand_tensor} \\n\")\n",
    "print(f\"Ones Tensor: \\n {ones_tensor} \\n\")\n",
    "print(f\"Zeros Tensor: \\n {zeros_tensor}\")"
   ]
  },
  {
   "cell_type": "markdown",
   "id": "b38593d7-86a4-40d2-98ef-a959f7c1bca4",
   "metadata": {},
   "source": [
    "<h2>Атрибуты тензора</h2>"
   ]
  },
  {
   "cell_type": "markdown",
   "id": "35ef5101-0f82-4e24-984d-532fdbdd69e0",
   "metadata": {},
   "source": [
    "Атрибуты тензора описывают его размерность, тип данных, и устройство, на которых он хранится."
   ]
  },
  {
   "cell_type": "code",
   "execution_count": 6,
   "id": "7faf3932-f61c-431a-a109-73a085643145",
   "metadata": {},
   "outputs": [
    {
     "name": "stdout",
     "output_type": "stream",
     "text": [
      "Shape of tensor: torch.Size([3, 4])\n",
      "Datatype of tensor: torch.float32\n",
      "Device tensor is stored on: cpu\n"
     ]
    }
   ],
   "source": [
    "tensor = torch.rand(3, 4)\n",
    "\n",
    "print(f\"Shape of tensor: {tensor.shape}\")\n",
    "print(f\"Datatype of tensor: {tensor.dtype}\")\n",
    "print(f\"Device tensor is stored on: {tensor.device}\")"
   ]
  },
  {
   "cell_type": "markdown",
   "id": "415acbc0-5612-4fef-87f8-365726475418",
   "metadata": {},
   "source": [
    "<h2>Операции с тензорами</h2>"
   ]
  },
  {
   "cell_type": "markdown",
   "id": "2993dc7d-63f8-4c7a-9f05-16e4c806d1cc",
   "metadata": {},
   "source": [
    "Больше 100 операций с тензорами, включая транспонирование, индексирование, нарезку, математические операции, линейную алгебру случайную выборку и многое другое описано [здесь](https://pytorch.org/docs/stable/torch.html)\n",
    "\n",
    "Каждая из них может быть выполнена на GPU (обычно с более высокой скоростью, чем на CPU)."
   ]
  },
  {
   "cell_type": "code",
   "execution_count": 7,
   "id": "bfe12685-4072-478e-91da-28e20f84e428",
   "metadata": {},
   "outputs": [
    {
     "name": "stdout",
     "output_type": "stream",
     "text": [
      "Device tensor is stored on cuda:0\n"
     ]
    }
   ],
   "source": [
    "# Перемещаем наш тензор на GPU, если это возможно\n",
    "if torch.cuda.is_available():\n",
    "    tensor = tensor.to('cuda')\n",
    "    print(f\"Device tensor is stored on {tensor.device}\")"
   ]
  },
  {
   "cell_type": "markdown",
   "id": "bddea498-32e4-48a9-8bb6-1340ed69086f",
   "metadata": {},
   "source": [
    "<h3>Стандартные операции индексации и слайсинга</h3>"
   ]
  },
  {
   "cell_type": "code",
   "execution_count": 8,
   "id": "2b598386-a242-4b35-8569-b5a1bc7d64f8",
   "metadata": {},
   "outputs": [
    {
     "data": {
      "text/plain": [
       "tensor([[1., 0., 1., 1.],\n",
       "        [1., 0., 1., 1.],\n",
       "        [1., 0., 1., 1.],\n",
       "        [1., 0., 1., 1.]])"
      ]
     },
     "execution_count": 8,
     "metadata": {},
     "output_type": "execute_result"
    }
   ],
   "source": [
    "tensor = torch.ones(4, 4)\n",
    "tensor[:, 1] = 0\n",
    "tensor"
   ]
  },
  {
   "cell_type": "markdown",
   "id": "0fe7a4ef-9b52-48eb-9fc1-c00c9ccbdce6",
   "metadata": {},
   "source": [
    "<h3>Объединение тензоров</h3>"
   ]
  },
  {
   "cell_type": "markdown",
   "id": "8a217e6d-4b26-40b6-9e9f-b8f1b3e58d22",
   "metadata": {},
   "source": [
    "Можно использовать `torch.cat` чтобы объединить последовательность тензоров по заданному измерению.\n",
    "\n",
    "Также существует [torch.stack](https://pytorch.org/docs/stable/generated/torch.stack.html), другая операция по объединению тензоров, которая мало чем отличается от torch.cat."
   ]
  },
  {
   "cell_type": "code",
   "execution_count": 9,
   "id": "14eb299d-bced-409f-ad9f-2540e973ddd1",
   "metadata": {},
   "outputs": [
    {
     "data": {
      "text/plain": [
       "tensor([[1., 0., 1., 1., 1., 0., 1., 1., 1., 0., 1., 1.],\n",
       "        [1., 0., 1., 1., 1., 0., 1., 1., 1., 0., 1., 1.],\n",
       "        [1., 0., 1., 1., 1., 0., 1., 1., 1., 0., 1., 1.],\n",
       "        [1., 0., 1., 1., 1., 0., 1., 1., 1., 0., 1., 1.]])"
      ]
     },
     "execution_count": 9,
     "metadata": {},
     "output_type": "execute_result"
    }
   ],
   "source": [
    "t1 = torch.cat([tensor, tensor, tensor], dim=1)\n",
    "t1"
   ]
  },
  {
   "cell_type": "markdown",
   "id": "e914671a-236c-4ac3-ad41-14f1a6cfeab0",
   "metadata": {},
   "source": [
    "<h3>Умножение тензоров</h3>"
   ]
  },
  {
   "cell_type": "code",
   "execution_count": 10,
   "id": "a75ec31b-d3b2-4d21-9d16-41a40d9cddb0",
   "metadata": {},
   "outputs": [
    {
     "name": "stdout",
     "output_type": "stream",
     "text": [
      "tensor.mul(tensor) \n",
      " tensor([[1., 0., 1., 1.],\n",
      "        [1., 0., 1., 1.],\n",
      "        [1., 0., 1., 1.],\n",
      "        [1., 0., 1., 1.]]) \n",
      "\n",
      "tensor * tensor \n",
      " tensor([[1., 0., 1., 1.],\n",
      "        [1., 0., 1., 1.],\n",
      "        [1., 0., 1., 1.],\n",
      "        [1., 0., 1., 1.]])\n"
     ]
    }
   ],
   "source": [
    "# Здесь вычисляется изменение по элементам\n",
    "print(f\"tensor.mul(tensor) \\n {tensor.mul(tensor)} \\n\")\n",
    "# Альтернативный синтаксис\n",
    "print(f\"tensor * tensor \\n {tensor * tensor}\")"
   ]
  },
  {
   "cell_type": "code",
   "execution_count": 11,
   "id": "af5d27ea-e74e-42dd-9be1-e6e3410c412e",
   "metadata": {},
   "outputs": [
    {
     "name": "stdout",
     "output_type": "stream",
     "text": [
      "tensor([[1., 1., 1., 1.],\n",
      "        [0., 0., 0., 0.],\n",
      "        [1., 1., 1., 1.],\n",
      "        [1., 1., 1., 1.]])\n",
      "tensor.matmul(tensor.T) \n",
      " tensor([[3., 3., 3., 3.],\n",
      "        [3., 3., 3., 3.],\n",
      "        [3., 3., 3., 3.],\n",
      "        [3., 3., 3., 3.]]) \n",
      "\n",
      "tensor @ tensor.T \n",
      " tensor([[3., 3., 3., 3.],\n",
      "        [3., 3., 3., 3.],\n",
      "        [3., 3., 3., 3.],\n",
      "        [3., 3., 3., 3.]])\n"
     ]
    }
   ],
   "source": [
    "# Возвращает представление матрицу с обратной размерностью\n",
    "# Если n это число размерностей в x, x.T эквивалентно x.permute(n-1, n-2, ..., 0)\n",
    "print(tensor.T)\n",
    "# Здесь вычисляется матричное умножение между двумя тензорами\n",
    "print(f\"tensor.matmul(tensor.T) \\n {tensor.matmul(tensor.T)} \\n\")\n",
    "# Альтернативный синтаксис\n",
    "print(f\"tensor @ tensor.T \\n {tensor @ tensor.T}\")\n",
    "# Не понял, почему они в сумме дают тензор из троек"
   ]
  },
  {
   "cell_type": "markdown",
   "id": "9e73cd41-158e-4823-a520-9dfbb0bb8eb5",
   "metadata": {},
   "source": [
    "<h3>Мутабельные операции (in-place)</h3>"
   ]
  },
  {
   "cell_type": "markdown",
   "id": "9de86bf0-b6d4-4f56-be5f-785f2486c40d",
   "metadata": {},
   "source": [
    "Операции, имеющие суффикс \\_, являются мутабельными (in_place). Например, x.copy\\_(y), x.t\\_() изменят x"
   ]
  },
  {
   "cell_type": "code",
   "execution_count": 12,
   "id": "259af4f5-7715-48ff-bd7b-dfb14cb93d96",
   "metadata": {},
   "outputs": [
    {
     "name": "stdout",
     "output_type": "stream",
     "text": [
      "tensor([[1., 0., 1., 1.],\n",
      "        [1., 0., 1., 1.],\n",
      "        [1., 0., 1., 1.],\n",
      "        [1., 0., 1., 1.]]) \n",
      "\n",
      "tensor([[6., 5., 6., 6.],\n",
      "        [6., 5., 6., 6.],\n",
      "        [6., 5., 6., 6.],\n",
      "        [6., 5., 6., 6.]])\n"
     ]
    }
   ],
   "source": [
    "print(tensor, \"\\n\")\n",
    "tensor.add_(5)\n",
    "print(tensor)"
   ]
  },
  {
   "cell_type": "markdown",
   "id": "1a8b585e-67a6-40ba-9a84-3e493d93354f",
   "metadata": {},
   "source": [
    "Примечание: мутабельные операции сохраняют немнго памяти, но могут создать проблему при вычислении производных из-за немедленной потери памяти. Поэтому их использование не рекомендуется"
   ]
  },
  {
   "cell_type": "markdown",
   "id": "fafd261c-09df-4b68-8c22-ca37a2509d89",
   "metadata": {},
   "source": [
    "## Мостик с NumPy"
   ]
  },
  {
   "cell_type": "markdown",
   "id": "9d1399c6-02b1-4244-a088-47c58bf17900",
   "metadata": {},
   "source": [
    "Тензоры на CPU и массивы NumPy могут совместно использовать свои базовые ячейки памяти, и изменение одного из них приведет к изменению другого"
   ]
  },
  {
   "cell_type": "markdown",
   "id": "4f4c3396-ab1e-4fc3-b191-a7451949134e",
   "metadata": {},
   "source": [
    "### Тензор в массив NumPy"
   ]
  },
  {
   "cell_type": "code",
   "execution_count": 13,
   "id": "7e116796-b5c2-43af-8cc9-72f5a8e35fa7",
   "metadata": {},
   "outputs": [
    {
     "name": "stdout",
     "output_type": "stream",
     "text": [
      "t: tensor([1., 1., 1., 1., 1.])\n",
      "n: [1. 1. 1. 1. 1.]\n"
     ]
    }
   ],
   "source": [
    "t = torch.ones(5)\n",
    "print(f\"t: {t}\")\n",
    "n = t.numpy()\n",
    "print(f\"n: {n}\")"
   ]
  },
  {
   "cell_type": "markdown",
   "id": "ce5a5721-5fc9-43e4-a85a-211865bd2168",
   "metadata": {},
   "source": [
    "Изменение в тензоре отражается на массив numpy"
   ]
  },
  {
   "cell_type": "code",
   "execution_count": 14,
   "id": "bcb385c5-420f-4cdb-8c69-e3b30f0d4fbc",
   "metadata": {},
   "outputs": [
    {
     "name": "stdout",
     "output_type": "stream",
     "text": [
      "t: tensor([2., 2., 2., 2., 2.])\n",
      "n: [2. 2. 2. 2. 2.]\n"
     ]
    }
   ],
   "source": [
    "t.add_(1)\n",
    "print(f\"t: {t}\")\n",
    "print(f\"n: {n}\")"
   ]
  },
  {
   "cell_type": "markdown",
   "id": "be52a785-37b9-47ef-a46c-2a2c89ab5b21",
   "metadata": {},
   "source": [
    "### NumPy массив в тензор"
   ]
  },
  {
   "cell_type": "code",
   "execution_count": 15,
   "id": "f0a2ec42-49ed-4cb7-9969-f569235960e8",
   "metadata": {},
   "outputs": [],
   "source": [
    "n = np.ones(5)\n",
    "t = torch.from_numpy(n)"
   ]
  },
  {
   "cell_type": "markdown",
   "id": "029da498-7625-4d0c-8f10-934474cb21b3",
   "metadata": {},
   "source": [
    "Изменения в массиве numpy отражаются на тензоре"
   ]
  },
  {
   "cell_type": "code",
   "execution_count": 16,
   "id": "b17e9456-9bb7-49ae-9147-f4737e4af4e6",
   "metadata": {},
   "outputs": [
    {
     "name": "stdout",
     "output_type": "stream",
     "text": [
      "t: tensor([2., 2., 2., 2., 2.], dtype=torch.float64)\n",
      "n: [2. 2. 2. 2. 2.]\n"
     ]
    }
   ],
   "source": [
    "np.add(n, 1, out=n)\n",
    "print(f\"t: {t}\")\n",
    "print(f\"n: {n}\")"
   ]
  },
  {
   "cell_type": "code",
   "execution_count": null,
   "id": "a99857c9-6348-4dfe-b285-066b44a0c52a",
   "metadata": {},
   "outputs": [],
   "source": []
  }
 ],
 "metadata": {
  "kernelspec": {
   "display_name": "venv",
   "language": "python",
   "name": "venv"
  },
  "language_info": {
   "codemirror_mode": {
    "name": "ipython",
    "version": 3
   },
   "file_extension": ".py",
   "mimetype": "text/x-python",
   "name": "python",
   "nbconvert_exporter": "python",
   "pygments_lexer": "ipython3",
   "version": "3.10.12"
  }
 },
 "nbformat": 4,
 "nbformat_minor": 5
}
